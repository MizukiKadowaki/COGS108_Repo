{
 "cells": [
  {
   "cell_type": "markdown",
   "metadata": {},
   "source": [
    "# COGS 108 - Data Checkpoint"
   ]
  },
  {
   "cell_type": "markdown",
   "metadata": {},
   "source": [
    "# Names\n",
    "\n",
    "- Salma Sheriff\n",
    "- Mizuki Kadowaki \n",
    "- Zoe Lederman \n",
    "- Yashaswat Malhotra\n"
   ]
  },
  {
   "cell_type": "markdown",
   "metadata": {},
   "source": [
    "<a id='research_question'></a>\n",
    "# Research Question"
   ]
  },
  {
   "cell_type": "markdown",
   "metadata": {},
   "source": [
    "Does the perceived citizen happiness correlate with COVID-19 outcomes?"
   ]
  },
  {
   "cell_type": "markdown",
   "metadata": {},
   "source": [
    "# Dataset(s)"
   ]
  },
  {
   "cell_type": "markdown",
   "metadata": {},
   "source": [
    "Dataset Name: World Happiness Report\n",
    "Link to the dataset: https://www.kaggle.com/unsdsn/world-happiness (https://www.kaggle.com/unsdsn/world-happiness)\n",
    "Number of observations:\n",
    "Results compiled from a happiness survey in countries, used to provide a happiness score and rank the happiness of 155 countries in 2019.\n",
    "\n",
    "Dataset Name: COVID-19 Coronavirus Complete Dataset\n",
    "Link to the dataset: https://www.kaggle.com/ashudata/covid19dataset? select=COVID_Data_Basic.csv (https://www.kaggle.com/ashudata/covid19dataset? select=COVID_Data_Basic.csv)\n",
    "Number of observations:\n",
    "\n",
    "Reports on outcomes of COVID-19 (confirmed cases, deaths, etc.) in 194 unique countries between 12/31/2019 - 11/6/2020.\n",
    "\n",
    "We plan to combine these datasets based on county. We will only be using countries that are present in both of these datasets.\n"
   ]
  },
  {
   "cell_type": "markdown",
   "metadata": {},
   "source": [
    "# Setup"
   ]
  },
  {
   "cell_type": "code",
   "execution_count": 1,
   "metadata": {},
   "outputs": [],
   "source": [
    "import pandas as pd \n",
    "import numpy as np\n",
    "import datetime"
   ]
  },
  {
   "cell_type": "code",
   "execution_count": 2,
   "metadata": {},
   "outputs": [],
   "source": [
    "# import datasets\n",
    "happy_2019 = pd.read_csv(\"data/2019.csv\")\n",
    "covid_basic = pd.read_csv(\"data/COVID_Data_Basic.csv\")"
   ]
  },
  {
   "cell_type": "markdown",
   "metadata": {},
   "source": [
    "# Data Cleaning"
   ]
  },
  {
   "cell_type": "markdown",
   "metadata": {},
   "source": [
    "*For COVID Dataset*\n",
    "1. Remove data from before January 2020 and after November 2020.\n",
    "2. Remove cruise ships and countries that do not have any data between January and November 2020. \n",
    "3. Drop newConfirmed, newDeath, and newRecovered columns.\n",
    "4. Convert the Data column values from String type to date-time type.\n",
    "5. Remove countries that are not in Happiness datasets."
   ]
  },
  {
   "cell_type": "code",
   "execution_count": 3,
   "metadata": {},
   "outputs": [],
   "source": [
    "#datetime.strptime('')\n",
    "covid_basic['Date'] = pd.to_datetime(covid_basic['Date'])\n",
    "\n",
    "# Code for removing all data sets before January 2020\n",
    "covid_test = covid_basic[~(covid_basic['Date'] < '2020-01-01')]\n",
    "\n",
    "#Code for removing all data sets after November 2020\n",
    "#This was done because not all countries have updated data after November.\n",
    "covid_test = covid_test[~(covid_test['Date'] > '2020-10-31')]"
   ]
  },
  {
   "cell_type": "code",
   "execution_count": 5,
   "metadata": {},
   "outputs": [
    {
     "data": {
      "text/plain": [
       "(54522, 8)"
      ]
     },
     "execution_count": 5,
     "metadata": {},
     "output_type": "execute_result"
    }
   ],
   "source": [
    "#getting different properties of the original dataset, to compare with changes we make\n",
    "covid_basic.head()\n",
    "covid_basic.Date[0]\n",
    "covid_basic.shape"
   ]
  },
  {
   "cell_type": "code",
   "execution_count": 6,
   "metadata": {},
   "outputs": [
    {
     "data": {
      "text/plain": [
       "(53316, 9)"
      ]
     },
     "execution_count": 6,
     "metadata": {},
     "output_type": "execute_result"
    }
   ],
   "source": [
    "#checking the same properties on a test dataset to see if we've made the desired changes\n",
    "covid_test.head()\n",
    "covid_test.Date[1]\n",
    "covid_test.shape"
   ]
  },
  {
   "cell_type": "code",
   "execution_count": 7,
   "metadata": {},
   "outputs": [
    {
     "data": {
      "text/plain": [
       "True"
      ]
     },
     "execution_count": 7,
     "metadata": {},
     "output_type": "execute_result"
    }
   ],
   "source": [
    "#both datasets have 194 countries\n",
    "len(covid_basic['Country'].unique()) == len(covid_test['Country'].unique())"
   ]
  },
  {
   "cell_type": "code",
   "execution_count": 8,
   "metadata": {},
   "outputs": [
    {
     "data": {
      "text/plain": [
       "array(['Andorra', 'Angola', 'Antigua and Barbuda', 'Bahamas',\n",
       "       'Bahamas, The', 'Barbados', 'Belize', 'Brunei', 'Burma',\n",
       "       'Cabo Verde', \"Cote d'Ivoire\", 'Cruise Ship', 'Cuba', 'Czechia',\n",
       "       'Diamond Princess', 'Djibouti', 'Dominica', 'Equatorial Guinea',\n",
       "       'Eritrea', 'Eswatini', 'Fiji', 'Gambia, The', 'Grenada',\n",
       "       'Guinea-Bissau', 'Guyana', 'Holy See', 'Korea, South',\n",
       "       'Liechtenstein', 'MS Zaandam', 'Maldives', 'Marshall Islands',\n",
       "       'Martinique', 'Monaco', 'Oman', 'Papua New Guinea',\n",
       "       'Saint Kitts and Nevis', 'Saint Lucia',\n",
       "       'Saint Vincent and the Grenadines', 'San Marino',\n",
       "       'Sao Tome and Principe', 'Seychelles', 'Solomon Islands', 'Sudan',\n",
       "       'Suriname', 'Taiwan*', 'Timor-Leste', 'Trinidad and Tobago', 'US',\n",
       "       'West Bank and Gaza', 'Western Sahara'], dtype=object)"
      ]
     },
     "execution_count": 8,
     "metadata": {},
     "output_type": "execute_result"
    }
   ],
   "source": [
    "#checking countries that are in covid dataset but not in happy\n",
    "np.setdiff1d(covid_test['Country'] , happy_2019['Country or region'])"
   ]
  },
  {
   "cell_type": "code",
   "execution_count": 9,
   "metadata": {},
   "outputs": [
    {
     "data": {
      "text/plain": [
       "array(['Czech Republic', 'Hong Kong', 'Ivory Coast', 'Myanmar',\n",
       "       'Northern Cyprus', 'Palestinian Territories', 'South Korea',\n",
       "       'Swaziland', 'Taiwan', 'Trinidad & Tobago', 'Turkmenistan',\n",
       "       'United States'], dtype=object)"
      ]
     },
     "execution_count": 9,
     "metadata": {},
     "output_type": "execute_result"
    }
   ],
   "source": [
    "#checking countries that are in happiness dataset but not in covid\n",
    "np.setdiff1d(happy_2019['Country or region'], covid_test['Country'])"
   ]
  },
  {
   "cell_type": "code",
   "execution_count": 10,
   "metadata": {},
   "outputs": [],
   "source": [
    "#renaming countries that are the same but entered differently\n",
    "covid_test = covid_test.replace([\"Czechia\", \"Cote d'Ivoire\", \"Burma\", \n",
    "                    \"West Bank and Gaza\", \"Korea, South\", \n",
    "                    \"Eswatini\",\"Taiwan*\",\"Trinidad and Tobago\", \"US\"],\n",
    "                   ['Czech Republic', 'Ivory Coast', 'Myanmar',\n",
    "                    'Palestinian Territories', 'South Korea',\n",
    "                    'Swaziland', 'Taiwan', 'Trinidad & Tobago',\n",
    "                    'United States'])"
   ]
  },
  {
   "cell_type": "code",
   "execution_count": 11,
   "metadata": {},
   "outputs": [
    {
     "data": {
      "text/plain": [
       "array(['Andorra', 'Angola', 'Antigua and Barbuda', 'Bahamas',\n",
       "       'Bahamas, The', 'Barbados', 'Belize', 'Brunei', 'Cabo Verde',\n",
       "       'Cruise Ship', 'Cuba', 'Diamond Princess', 'Djibouti', 'Dominica',\n",
       "       'Equatorial Guinea', 'Eritrea', 'Fiji', 'Gambia, The', 'Grenada',\n",
       "       'Guinea-Bissau', 'Guyana', 'Holy See', 'Liechtenstein',\n",
       "       'MS Zaandam', 'Maldives', 'Marshall Islands', 'Martinique',\n",
       "       'Monaco', 'Oman', 'Papua New Guinea', 'Saint Kitts and Nevis',\n",
       "       'Saint Lucia', 'Saint Vincent and the Grenadines', 'San Marino',\n",
       "       'Sao Tome and Principe', 'Seychelles', 'Solomon Islands', 'Sudan',\n",
       "       'Suriname', 'Timor-Leste', 'Western Sahara'], dtype=object)"
      ]
     },
     "execution_count": 11,
     "metadata": {},
     "output_type": "execute_result"
    }
   ],
   "source": [
    "#checking countries that are in covid dataset but not in happy\n",
    "np.setdiff1d(covid_test['Country'] , happy_2019['Country or region'])"
   ]
  },
  {
   "cell_type": "code",
   "execution_count": 12,
   "metadata": {},
   "outputs": [
    {
     "data": {
      "text/plain": [
       "array(['Hong Kong', 'Northern Cyprus', 'Turkmenistan'], dtype=object)"
      ]
     },
     "execution_count": 12,
     "metadata": {},
     "output_type": "execute_result"
    }
   ],
   "source": [
    "#checking countries that are in happiness dataset but not in covid\n",
    "np.setdiff1d(happy_2019['Country or region'], covid_test['Country'])"
   ]
  },
  {
   "cell_type": "code",
   "execution_count": 13,
   "metadata": {},
   "outputs": [
    {
     "data": {
      "text/html": [
       "<div>\n",
       "<style scoped>\n",
       "    .dataframe tbody tr th:only-of-type {\n",
       "        vertical-align: middle;\n",
       "    }\n",
       "\n",
       "    .dataframe tbody tr th {\n",
       "        vertical-align: top;\n",
       "    }\n",
       "\n",
       "    .dataframe thead th {\n",
       "        text-align: right;\n",
       "    }\n",
       "</style>\n",
       "<table border=\"1\" class=\"dataframe\">\n",
       "  <thead>\n",
       "    <tr style=\"text-align: right;\">\n",
       "      <th></th>\n",
       "      <th>Unnamed: 0</th>\n",
       "      <th>Country</th>\n",
       "      <th>Date</th>\n",
       "      <th>Confirmed</th>\n",
       "      <th>Death</th>\n",
       "      <th>Recovered</th>\n",
       "      <th>newConfirmed</th>\n",
       "      <th>newDeath</th>\n",
       "      <th>newRecovered</th>\n",
       "    </tr>\n",
       "  </thead>\n",
       "  <tbody>\n",
       "    <tr>\n",
       "      <th>1</th>\n",
       "      <td>2</td>\n",
       "      <td>Afghanistan</td>\n",
       "      <td>2020-01-01</td>\n",
       "      <td>0</td>\n",
       "      <td>0</td>\n",
       "      <td>0</td>\n",
       "      <td>0</td>\n",
       "      <td>0</td>\n",
       "      <td>0</td>\n",
       "    </tr>\n",
       "    <tr>\n",
       "      <th>2</th>\n",
       "      <td>3</td>\n",
       "      <td>Afghanistan</td>\n",
       "      <td>2020-01-02</td>\n",
       "      <td>0</td>\n",
       "      <td>0</td>\n",
       "      <td>0</td>\n",
       "      <td>0</td>\n",
       "      <td>0</td>\n",
       "      <td>0</td>\n",
       "    </tr>\n",
       "    <tr>\n",
       "      <th>3</th>\n",
       "      <td>4</td>\n",
       "      <td>Afghanistan</td>\n",
       "      <td>2020-01-03</td>\n",
       "      <td>0</td>\n",
       "      <td>0</td>\n",
       "      <td>0</td>\n",
       "      <td>0</td>\n",
       "      <td>0</td>\n",
       "      <td>0</td>\n",
       "    </tr>\n",
       "    <tr>\n",
       "      <th>4</th>\n",
       "      <td>5</td>\n",
       "      <td>Afghanistan</td>\n",
       "      <td>2020-01-04</td>\n",
       "      <td>0</td>\n",
       "      <td>0</td>\n",
       "      <td>0</td>\n",
       "      <td>0</td>\n",
       "      <td>0</td>\n",
       "      <td>0</td>\n",
       "    </tr>\n",
       "    <tr>\n",
       "      <th>5</th>\n",
       "      <td>6</td>\n",
       "      <td>Afghanistan</td>\n",
       "      <td>2020-01-05</td>\n",
       "      <td>0</td>\n",
       "      <td>0</td>\n",
       "      <td>0</td>\n",
       "      <td>0</td>\n",
       "      <td>0</td>\n",
       "      <td>0</td>\n",
       "    </tr>\n",
       "    <tr>\n",
       "      <th>...</th>\n",
       "      <td>...</td>\n",
       "      <td>...</td>\n",
       "      <td>...</td>\n",
       "      <td>...</td>\n",
       "      <td>...</td>\n",
       "      <td>...</td>\n",
       "      <td>...</td>\n",
       "      <td>...</td>\n",
       "      <td>...</td>\n",
       "    </tr>\n",
       "    <tr>\n",
       "      <th>54511</th>\n",
       "      <td>55090</td>\n",
       "      <td>Zimbabwe</td>\n",
       "      <td>2020-10-27</td>\n",
       "      <td>8315</td>\n",
       "      <td>242</td>\n",
       "      <td>7804</td>\n",
       "      <td>12</td>\n",
       "      <td>0</td>\n",
       "      <td>7</td>\n",
       "    </tr>\n",
       "    <tr>\n",
       "      <th>54512</th>\n",
       "      <td>55091</td>\n",
       "      <td>Zimbabwe</td>\n",
       "      <td>2020-10-28</td>\n",
       "      <td>8320</td>\n",
       "      <td>242</td>\n",
       "      <td>7845</td>\n",
       "      <td>5</td>\n",
       "      <td>0</td>\n",
       "      <td>41</td>\n",
       "    </tr>\n",
       "    <tr>\n",
       "      <th>54513</th>\n",
       "      <td>55092</td>\n",
       "      <td>Zimbabwe</td>\n",
       "      <td>2020-10-29</td>\n",
       "      <td>8349</td>\n",
       "      <td>242</td>\n",
       "      <td>7864</td>\n",
       "      <td>29</td>\n",
       "      <td>0</td>\n",
       "      <td>19</td>\n",
       "    </tr>\n",
       "    <tr>\n",
       "      <th>54514</th>\n",
       "      <td>55093</td>\n",
       "      <td>Zimbabwe</td>\n",
       "      <td>2020-10-30</td>\n",
       "      <td>8362</td>\n",
       "      <td>242</td>\n",
       "      <td>7884</td>\n",
       "      <td>13</td>\n",
       "      <td>0</td>\n",
       "      <td>20</td>\n",
       "    </tr>\n",
       "    <tr>\n",
       "      <th>54515</th>\n",
       "      <td>55094</td>\n",
       "      <td>Zimbabwe</td>\n",
       "      <td>2020-10-31</td>\n",
       "      <td>8367</td>\n",
       "      <td>243</td>\n",
       "      <td>7894</td>\n",
       "      <td>5</td>\n",
       "      <td>1</td>\n",
       "      <td>10</td>\n",
       "    </tr>\n",
       "  </tbody>\n",
       "</table>\n",
       "<p>43499 rows × 9 columns</p>\n",
       "</div>"
      ],
      "text/plain": [
       "       Unnamed: 0      Country       Date  Confirmed  Death  Recovered  \\\n",
       "1               2  Afghanistan 2020-01-01          0      0          0   \n",
       "2               3  Afghanistan 2020-01-02          0      0          0   \n",
       "3               4  Afghanistan 2020-01-03          0      0          0   \n",
       "4               5  Afghanistan 2020-01-04          0      0          0   \n",
       "5               6  Afghanistan 2020-01-05          0      0          0   \n",
       "...           ...          ...        ...        ...    ...        ...   \n",
       "54511       55090     Zimbabwe 2020-10-27       8315    242       7804   \n",
       "54512       55091     Zimbabwe 2020-10-28       8320    242       7845   \n",
       "54513       55092     Zimbabwe 2020-10-29       8349    242       7864   \n",
       "54514       55093     Zimbabwe 2020-10-30       8362    242       7884   \n",
       "54515       55094     Zimbabwe 2020-10-31       8367    243       7894   \n",
       "\n",
       "       newConfirmed  newDeath  newRecovered  \n",
       "1                 0         0             0  \n",
       "2                 0         0             0  \n",
       "3                 0         0             0  \n",
       "4                 0         0             0  \n",
       "5                 0         0             0  \n",
       "...             ...       ...           ...  \n",
       "54511            12         0             7  \n",
       "54512             5         0            41  \n",
       "54513            29         0            19  \n",
       "54514            13         0            20  \n",
       "54515             5         1            10  \n",
       "\n",
       "[43499 rows x 9 columns]"
      ]
     },
     "execution_count": 13,
     "metadata": {},
     "output_type": "execute_result"
    }
   ],
   "source": [
    "#removing countries that are in covid dataset and not in happiness dataset\n",
    "covid_test[~covid_test['Country'].isin(['Andorra','Angola', 'Antigua and Barbuda', 'Bahamas',\n",
    "       'Bahamas, The', 'Barbados', 'Belize', 'Brunei', 'Cabo Verde',\n",
    "       'Cruise Ship', 'Cuba', 'Diamond Princess', 'Djibouti', 'Dominica',\n",
    "       'Equatorial Guinea', 'Eritrea', 'Fiji', 'Gambia, The', 'Grenada',\n",
    "       'Guinea-Bissau', 'Guyana', 'Holy See', 'Liechtenstein',\n",
    "       'MS Zaandam', 'Maldives', 'Marshall Islands', 'Martinique',\n",
    "       'Monaco', 'Oman', 'Papua New Guinea', 'Saint Kitts and Nevis',\n",
    "       'Saint Lucia', 'Saint Vincent and the Grenadines', 'San Marino',\n",
    "       'Sao Tome and Principe', 'Seychelles', 'Solomon Islands', 'Sudan',\n",
    "       'Suriname', 'Timor-Leste', 'Western Sahara'])]"
   ]
  },
  {
   "cell_type": "code",
   "execution_count": 16,
   "metadata": {},
   "outputs": [
    {
     "data": {
      "text/html": [
       "<div>\n",
       "<style scoped>\n",
       "    .dataframe tbody tr th:only-of-type {\n",
       "        vertical-align: middle;\n",
       "    }\n",
       "\n",
       "    .dataframe tbody tr th {\n",
       "        vertical-align: top;\n",
       "    }\n",
       "\n",
       "    .dataframe thead th {\n",
       "        text-align: right;\n",
       "    }\n",
       "</style>\n",
       "<table border=\"1\" class=\"dataframe\">\n",
       "  <thead>\n",
       "    <tr style=\"text-align: right;\">\n",
       "      <th></th>\n",
       "      <th>Overall rank</th>\n",
       "      <th>Country or region</th>\n",
       "      <th>Score</th>\n",
       "      <th>GDP per capita</th>\n",
       "      <th>Social support</th>\n",
       "      <th>Healthy life expectancy</th>\n",
       "      <th>Freedom to make life choices</th>\n",
       "      <th>Generosity</th>\n",
       "      <th>Perceptions of corruption</th>\n",
       "    </tr>\n",
       "  </thead>\n",
       "  <tbody>\n",
       "    <tr>\n",
       "      <th>0</th>\n",
       "      <td>1</td>\n",
       "      <td>Finland</td>\n",
       "      <td>7.769</td>\n",
       "      <td>1.340</td>\n",
       "      <td>1.587</td>\n",
       "      <td>0.986</td>\n",
       "      <td>0.596</td>\n",
       "      <td>0.153</td>\n",
       "      <td>0.393</td>\n",
       "    </tr>\n",
       "    <tr>\n",
       "      <th>1</th>\n",
       "      <td>2</td>\n",
       "      <td>Denmark</td>\n",
       "      <td>7.600</td>\n",
       "      <td>1.383</td>\n",
       "      <td>1.573</td>\n",
       "      <td>0.996</td>\n",
       "      <td>0.592</td>\n",
       "      <td>0.252</td>\n",
       "      <td>0.410</td>\n",
       "    </tr>\n",
       "    <tr>\n",
       "      <th>2</th>\n",
       "      <td>3</td>\n",
       "      <td>Norway</td>\n",
       "      <td>7.554</td>\n",
       "      <td>1.488</td>\n",
       "      <td>1.582</td>\n",
       "      <td>1.028</td>\n",
       "      <td>0.603</td>\n",
       "      <td>0.271</td>\n",
       "      <td>0.341</td>\n",
       "    </tr>\n",
       "    <tr>\n",
       "      <th>3</th>\n",
       "      <td>4</td>\n",
       "      <td>Iceland</td>\n",
       "      <td>7.494</td>\n",
       "      <td>1.380</td>\n",
       "      <td>1.624</td>\n",
       "      <td>1.026</td>\n",
       "      <td>0.591</td>\n",
       "      <td>0.354</td>\n",
       "      <td>0.118</td>\n",
       "    </tr>\n",
       "    <tr>\n",
       "      <th>4</th>\n",
       "      <td>5</td>\n",
       "      <td>Netherlands</td>\n",
       "      <td>7.488</td>\n",
       "      <td>1.396</td>\n",
       "      <td>1.522</td>\n",
       "      <td>0.999</td>\n",
       "      <td>0.557</td>\n",
       "      <td>0.322</td>\n",
       "      <td>0.298</td>\n",
       "    </tr>\n",
       "    <tr>\n",
       "      <th>...</th>\n",
       "      <td>...</td>\n",
       "      <td>...</td>\n",
       "      <td>...</td>\n",
       "      <td>...</td>\n",
       "      <td>...</td>\n",
       "      <td>...</td>\n",
       "      <td>...</td>\n",
       "      <td>...</td>\n",
       "      <td>...</td>\n",
       "    </tr>\n",
       "    <tr>\n",
       "      <th>151</th>\n",
       "      <td>152</td>\n",
       "      <td>Rwanda</td>\n",
       "      <td>3.334</td>\n",
       "      <td>0.359</td>\n",
       "      <td>0.711</td>\n",
       "      <td>0.614</td>\n",
       "      <td>0.555</td>\n",
       "      <td>0.217</td>\n",
       "      <td>0.411</td>\n",
       "    </tr>\n",
       "    <tr>\n",
       "      <th>152</th>\n",
       "      <td>153</td>\n",
       "      <td>Tanzania</td>\n",
       "      <td>3.231</td>\n",
       "      <td>0.476</td>\n",
       "      <td>0.885</td>\n",
       "      <td>0.499</td>\n",
       "      <td>0.417</td>\n",
       "      <td>0.276</td>\n",
       "      <td>0.147</td>\n",
       "    </tr>\n",
       "    <tr>\n",
       "      <th>153</th>\n",
       "      <td>154</td>\n",
       "      <td>Afghanistan</td>\n",
       "      <td>3.203</td>\n",
       "      <td>0.350</td>\n",
       "      <td>0.517</td>\n",
       "      <td>0.361</td>\n",
       "      <td>0.000</td>\n",
       "      <td>0.158</td>\n",
       "      <td>0.025</td>\n",
       "    </tr>\n",
       "    <tr>\n",
       "      <th>154</th>\n",
       "      <td>155</td>\n",
       "      <td>Central African Republic</td>\n",
       "      <td>3.083</td>\n",
       "      <td>0.026</td>\n",
       "      <td>0.000</td>\n",
       "      <td>0.105</td>\n",
       "      <td>0.225</td>\n",
       "      <td>0.235</td>\n",
       "      <td>0.035</td>\n",
       "    </tr>\n",
       "    <tr>\n",
       "      <th>155</th>\n",
       "      <td>156</td>\n",
       "      <td>South Sudan</td>\n",
       "      <td>2.853</td>\n",
       "      <td>0.306</td>\n",
       "      <td>0.575</td>\n",
       "      <td>0.295</td>\n",
       "      <td>0.010</td>\n",
       "      <td>0.202</td>\n",
       "      <td>0.091</td>\n",
       "    </tr>\n",
       "  </tbody>\n",
       "</table>\n",
       "<p>153 rows × 9 columns</p>\n",
       "</div>"
      ],
      "text/plain": [
       "     Overall rank         Country or region  Score  GDP per capita  \\\n",
       "0               1                   Finland  7.769           1.340   \n",
       "1               2                   Denmark  7.600           1.383   \n",
       "2               3                    Norway  7.554           1.488   \n",
       "3               4                   Iceland  7.494           1.380   \n",
       "4               5               Netherlands  7.488           1.396   \n",
       "..            ...                       ...    ...             ...   \n",
       "151           152                    Rwanda  3.334           0.359   \n",
       "152           153                  Tanzania  3.231           0.476   \n",
       "153           154               Afghanistan  3.203           0.350   \n",
       "154           155  Central African Republic  3.083           0.026   \n",
       "155           156               South Sudan  2.853           0.306   \n",
       "\n",
       "     Social support  Healthy life expectancy  Freedom to make life choices  \\\n",
       "0             1.587                    0.986                         0.596   \n",
       "1             1.573                    0.996                         0.592   \n",
       "2             1.582                    1.028                         0.603   \n",
       "3             1.624                    1.026                         0.591   \n",
       "4             1.522                    0.999                         0.557   \n",
       "..              ...                      ...                           ...   \n",
       "151           0.711                    0.614                         0.555   \n",
       "152           0.885                    0.499                         0.417   \n",
       "153           0.517                    0.361                         0.000   \n",
       "154           0.000                    0.105                         0.225   \n",
       "155           0.575                    0.295                         0.010   \n",
       "\n",
       "     Generosity  Perceptions of corruption  \n",
       "0         0.153                      0.393  \n",
       "1         0.252                      0.410  \n",
       "2         0.271                      0.341  \n",
       "3         0.354                      0.118  \n",
       "4         0.322                      0.298  \n",
       "..          ...                        ...  \n",
       "151       0.217                      0.411  \n",
       "152       0.276                      0.147  \n",
       "153       0.158                      0.025  \n",
       "154       0.235                      0.035  \n",
       "155       0.202                      0.091  \n",
       "\n",
       "[153 rows x 9 columns]"
      ]
     },
     "execution_count": 16,
     "metadata": {},
     "output_type": "execute_result"
    }
   ],
   "source": [
    "#removing countries that are in happiness dataset and not in covid dataset\n",
    "happy_2019[~happy_2019['Country or region'].isin(['Hong Kong', 'Northern Cyprus', 'Turkmenistan'])]"
   ]
  },
  {
   "cell_type": "code",
   "execution_count": 15,
   "metadata": {},
   "outputs": [
    {
     "data": {
      "text/html": [
       "<div>\n",
       "<style scoped>\n",
       "    .dataframe tbody tr th:only-of-type {\n",
       "        vertical-align: middle;\n",
       "    }\n",
       "\n",
       "    .dataframe tbody tr th {\n",
       "        vertical-align: top;\n",
       "    }\n",
       "\n",
       "    .dataframe thead th {\n",
       "        text-align: right;\n",
       "    }\n",
       "</style>\n",
       "<table border=\"1\" class=\"dataframe\">\n",
       "  <thead>\n",
       "    <tr style=\"text-align: right;\">\n",
       "      <th></th>\n",
       "      <th></th>\n",
       "      <th>Unnamed: 0</th>\n",
       "      <th>Confirmed</th>\n",
       "      <th>Death</th>\n",
       "      <th>Recovered</th>\n",
       "      <th>newConfirmed</th>\n",
       "      <th>newDeath</th>\n",
       "      <th>newRecovered</th>\n",
       "    </tr>\n",
       "    <tr>\n",
       "      <th>Country</th>\n",
       "      <th>Month</th>\n",
       "      <th></th>\n",
       "      <th></th>\n",
       "      <th></th>\n",
       "      <th></th>\n",
       "      <th></th>\n",
       "      <th></th>\n",
       "      <th></th>\n",
       "    </tr>\n",
       "  </thead>\n",
       "  <tbody>\n",
       "    <tr>\n",
       "      <th rowspan=\"5\" valign=\"top\">Afghanistan</th>\n",
       "      <th>1</th>\n",
       "      <td>527</td>\n",
       "      <td>0</td>\n",
       "      <td>0</td>\n",
       "      <td>0</td>\n",
       "      <td>0</td>\n",
       "      <td>0</td>\n",
       "      <td>0</td>\n",
       "    </tr>\n",
       "    <tr>\n",
       "      <th>2</th>\n",
       "      <td>1363</td>\n",
       "      <td>6</td>\n",
       "      <td>0</td>\n",
       "      <td>0</td>\n",
       "      <td>1</td>\n",
       "      <td>0</td>\n",
       "      <td>0</td>\n",
       "    </tr>\n",
       "    <tr>\n",
       "      <th>3</th>\n",
       "      <td>776549</td>\n",
       "      <td>1219</td>\n",
       "      <td>29</td>\n",
       "      <td>26</td>\n",
       "      <td>173</td>\n",
       "      <td>4</td>\n",
       "      <td>5</td>\n",
       "    </tr>\n",
       "    <tr>\n",
       "      <th>4</th>\n",
       "      <td>2568000</td>\n",
       "      <td>27237</td>\n",
       "      <td>860</td>\n",
       "      <td>2927</td>\n",
       "      <td>1997</td>\n",
       "      <td>60</td>\n",
       "      <td>255</td>\n",
       "    </tr>\n",
       "    <tr>\n",
       "      <th>5</th>\n",
       "      <td>2100611</td>\n",
       "      <td>225655</td>\n",
       "      <td>4994</td>\n",
       "      <td>24129</td>\n",
       "      <td>13034</td>\n",
       "      <td>193</td>\n",
       "      <td>1068</td>\n",
       "    </tr>\n",
       "  </tbody>\n",
       "</table>\n",
       "</div>"
      ],
      "text/plain": [
       "                   Unnamed: 0  Confirmed  Death  Recovered  newConfirmed  \\\n",
       "Country     Month                                                          \n",
       "Afghanistan 1             527          0      0          0             0   \n",
       "            2            1363          6      0          0             1   \n",
       "            3          776549       1219     29         26           173   \n",
       "            4         2568000      27237    860       2927          1997   \n",
       "            5         2100611     225655   4994      24129         13034   \n",
       "\n",
       "                   newDeath  newRecovered  \n",
       "Country     Month                          \n",
       "Afghanistan 1             0             0  \n",
       "            2             0             0  \n",
       "            3             4             5  \n",
       "            4            60           255  \n",
       "            5           193          1068  "
      ]
     },
     "execution_count": 15,
     "metadata": {},
     "output_type": "execute_result"
    }
   ],
   "source": [
    "#make month column to make it easy to sum by month\n",
    "covid_test['Month'] = covid_test['Date'].dt.month\n",
    "\n",
    "#code for adding all the data for each country by month\n",
    "covid_test = covid_test.groupby(['Country','Month']).sum()\n",
    "covid_test.head()"
   ]
  },
  {
   "cell_type": "code",
   "execution_count": 17,
   "metadata": {},
   "outputs": [],
   "source": [
    "#dropping column named \"unnamed\" that contained the index before the data set was altered\n",
    "covid_test = covid_test.drop(columns = 'Unnamed: 0')"
   ]
  },
  {
   "cell_type": "code",
   "execution_count": 21,
   "metadata": {},
   "outputs": [],
   "source": [
    "covid_test.head()\n",
    "covid_test.shape\n",
    "\n",
    "#renaming covid dataset for ease\n",
    "covid_clean = covid_test"
   ]
  },
  {
   "cell_type": "markdown",
   "metadata": {},
   "source": [
    "# Project Proposal (updated)"
   ]
  },
  {
   "cell_type": "markdown",
   "metadata": {},
   "source": [
    "| Meeting Date  | Meeting Time| Completed Before Meeting  | Discuss at Meeting |\n",
    "|---|---|---|---|\n",
    "| 1/20  |  1 PM | Read & Think about COGS 108 expectations; brainstorm topics/questions  | Determine best form of communication; Discuss and decide on final project topic; discuss hypothesis; begin background research | \n",
    "| 1/26  |  10 AM |  Do background research on topic | Discuss ideal dataset(s) and ethics; draft project proposal | \n",
    "| 2/1  | 10 AM  | Edit, finalize, and submit proposal; Search for datasets  | Discuss Wrangling and possible analytical approaches; Assign group members to lead each specific part   |\n",
    "| 2/4  | 6 PM  | Import & Wrangle Data; EDA | Review/Edit wrangling/EDA; Discuss Analysis Plan   |\n",
    "| 2/11  | 6 PM  | Finalize wrangling/EDA; Begin Analysis | Discuss/edit Analysis; Complete project check-in |\n",
    "| 2/18  | 6 PM  | Complete analysis; Draft results/conclusion/discussion (Wasp)| Discuss/edit full project |\n",
    "| 2/25  | Before 11:59 PM  | NA | Turn in Final Project & Group Project Surveys |"
   ]
  }
 ],
 "metadata": {
  "kernelspec": {
   "display_name": "Python 3",
   "language": "python",
   "name": "python3"
  },
  "language_info": {
   "codemirror_mode": {
    "name": "ipython",
    "version": 3
   },
   "file_extension": ".py",
   "mimetype": "text/x-python",
   "name": "python",
   "nbconvert_exporter": "python",
   "pygments_lexer": "ipython3",
   "version": "3.8.5"
  }
 },
 "nbformat": 4,
 "nbformat_minor": 2
}
